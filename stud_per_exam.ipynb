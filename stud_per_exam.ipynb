{
 "cells": [
  {
   "metadata": {
    "ExecuteTime": {
     "end_time": "2025-05-21T19:13:52.752479Z",
     "start_time": "2025-05-21T19:13:52.730114Z"
    }
   },
   "cell_type": "code",
   "source": [
    "import pandas as pd\n",
    "import matplotlib.pyplot as plt\n",
    "import seaborn as sns\n",
    "import numpy as np\n",
    "from scipy.stats import shapiro, f_oneway, kruskal, chi2_contingency\n",
    "from sklearn.model_selection import train_test_split\n",
    "from sklearn.linear_model import LinearRegression\n",
    "from sklearn.ensemble import RandomForestRegressor\n",
    "from sklearn.metrics import mean_squared_error, r2_score\n",
    "from sklearn.preprocessing import OneHotEncoder\n",
    "from sklearn.compose import ColumnTransformer\n",
    "from sklearn.pipeline import Pipeline"
   ],
   "id": "1e5e387417c0ce8",
   "outputs": [],
   "execution_count": 22
  },
  {
   "metadata": {
    "ExecuteTime": {
     "end_time": "2025-05-21T19:13:52.848797Z",
     "start_time": "2025-05-21T19:13:52.836444Z"
    }
   },
   "cell_type": "code",
   "source": [
    "df = pd.read_csv('StudentsPerformance.csv')\n",
    "df['average score'] = df[['math score', 'reading score', 'writing score']].mean(axis=1)"
   ],
   "id": "65e16bf054d0c75f",
   "outputs": [],
   "execution_count": 23
  },
  {
   "metadata": {
    "ExecuteTime": {
     "end_time": "2025-05-21T19:13:52.899699Z",
     "start_time": "2025-05-21T19:13:52.890515Z"
    }
   },
   "cell_type": "code",
   "source": [
    "print(\"1. Проверка нормальности распределений в группах по уровню образования родителей\\n\")\n",
    "\n",
    "education_groups = {}\n",
    "normal_groups = []\n",
    "non_normal_groups = []\n",
    "group_names = df['parental level of education'].unique()\n",
    "\n",
    "for name in group_names:\n",
    "    group = df[df['parental level of education'] == name]['average score'].dropna()\n",
    "    education_groups[name] = group\n",
    "\n",
    "    stat, p_val = shapiro(group)\n",
    "    print(f\"Shapiro-Wilk для группы '{name}': p-value = {p_val:.3f}\")\n",
    "\n",
    "    if p_val < 0.05:\n",
    "        print(f\"❌ Распределение НЕ нормальное для группы '{name}'\")\n",
    "        non_normal_groups.append(name)\n",
    "    else:\n",
    "        print(f\"✅ Распределение нормальное для группы '{name}'\")\n",
    "        normal_groups.append(name)\n",
    "    print()"
   ],
   "id": "77373bac5e8b69d9",
   "outputs": [
    {
     "name": "stdout",
     "output_type": "stream",
     "text": [
      "1. Проверка нормальности распределений в группах по уровню образования родителей\n",
      "\n",
      "Shapiro-Wilk для группы 'bachelor's degree': p-value = 0.340\n",
      "✅ Распределение нормальное для группы 'bachelor's degree'\n",
      "\n",
      "Shapiro-Wilk для группы 'some college': p-value = 0.051\n",
      "✅ Распределение нормальное для группы 'some college'\n",
      "\n",
      "Shapiro-Wilk для группы 'master's degree': p-value = 0.230\n",
      "✅ Распределение нормальное для группы 'master's degree'\n",
      "\n",
      "Shapiro-Wilk для группы 'associate's degree': p-value = 0.110\n",
      "✅ Распределение нормальное для группы 'associate's degree'\n",
      "\n",
      "Shapiro-Wilk для группы 'high school': p-value = 0.105\n",
      "✅ Распределение нормальное для группы 'high school'\n",
      "\n",
      "Shapiro-Wilk для группы 'some high school': p-value = 0.009\n",
      "❌ Распределение НЕ нормальное для группы 'some high school'\n",
      "\n"
     ]
    }
   ],
   "execution_count": 24
  },
  {
   "metadata": {
    "ExecuteTime": {
     "end_time": "2025-05-21T19:13:52.940651Z",
     "start_time": "2025-05-21T19:13:52.932790Z"
    }
   },
   "cell_type": "code",
   "source": [
    "print(\"\\n2. ANOVA для групп с нормальным распределением\\n\")\n",
    "\n",
    "if len(normal_groups) > 1:\n",
    "    normal_data = [education_groups[name] for name in normal_groups]\n",
    "    f_stat, p_val = f_oneway(*normal_data)\n",
    "    print(f\"ANOVA: F-statistic = {f_stat:.3f}, P-value = {p_val:.3f}\")\n",
    "\n",
    "    if p_val < 0.05:\n",
    "        print(\"✅ Отклоняем H₀: существуют статистически значимые различия между группами.\")\n",
    "    else:\n",
    "        print(\"❌ Не отклоняем H₀: статистически значимых различий между группами нет.\")\n",
    "else:\n",
    "    print(\"Недостаточно групп с нормальным распределением для ANOVA.\")"
   ],
   "id": "427665e3011ce04d",
   "outputs": [
    {
     "name": "stdout",
     "output_type": "stream",
     "text": [
      "\n",
      "2. ANOVA для групп с нормальным распределением\n",
      "\n",
      "ANOVA: F-statistic = 11.857, P-value = 0.000\n",
      "✅ Отклоняем H₀: существуют статистически значимые различия между группами.\n"
     ]
    }
   ],
   "execution_count": 25
  },
  {
   "metadata": {
    "ExecuteTime": {
     "end_time": "2025-05-21T19:13:53.005513Z",
     "start_time": "2025-05-21T19:13:52.987605Z"
    }
   },
   "cell_type": "code",
   "source": [
    "print(\"\\n3. Хи-квадрат тест после категоризации данных\\n\")\n",
    "df['score_category'] = pd.qcut(df['average score'], q=3, labels=['низкий', 'средний', 'высокий'])\n",
    "\n",
    "contingency_table = pd.crosstab(df['parental level of education'], df['score_category'])\n",
    "print(\"Таблица сопряженности (образование родителей × категория балла):\")\n",
    "print(contingency_table)\n",
    "print()"
   ],
   "id": "1b682378b245d858",
   "outputs": [
    {
     "name": "stdout",
     "output_type": "stream",
     "text": [
      "\n",
      "3. Хи-квадрат тест после категоризации данных\n",
      "\n",
      "Таблица сопряженности (образование родителей × категория балла):\n",
      "score_category               низкий  средний  высокий\n",
      "parental level of education                          \n",
      "associate's degree               67       68       87\n",
      "bachelor's degree                28       42       48\n",
      "high school                      83       73       40\n",
      "master's degree                  14       16       29\n",
      "some college                     72       79       75\n",
      "some high school                 72       54       53\n",
      "\n"
     ]
    }
   ],
   "execution_count": 26
  },
  {
   "metadata": {
    "ExecuteTime": {
     "end_time": "2025-05-21T19:13:53.052743Z",
     "start_time": "2025-05-21T19:13:53.046137Z"
    }
   },
   "cell_type": "code",
   "source": [
    "chi2, p, dof, expected = chi2_contingency(contingency_table)\n",
    "print(f\"Хи-квадрат: χ² = {chi2:.3f}, df = {dof}, p-value = {p:.5f}\")\n",
    "\n",
    "if p < 0.05:\n",
    "    print(\n",
    "        \"✅ Отклоняем H₀: есть статистически значимая связь между уровнем образования родителей и категорией среднего балла.\")\n",
    "else:\n",
    "    print(\n",
    "        \"❌ Не отклоняем H₀: статистически значимой связи между уровнем образования родителей и категорией среднего балла нет.\")"
   ],
   "id": "c8d1f072df9ae84a",
   "outputs": [
    {
     "name": "stdout",
     "output_type": "stream",
     "text": [
      "Хи-квадрат: χ² = 35.148, df = 10, p-value = 0.00012\n",
      "✅ Отклоняем H₀: есть статистически значимая связь между уровнем образования родителей и категорией среднего балла.\n"
     ]
    }
   ],
   "execution_count": 27
  },
  {
   "metadata": {
    "ExecuteTime": {
     "end_time": "2025-05-21T19:13:53.579187Z",
     "start_time": "2025-05-21T19:13:53.568270Z"
    }
   },
   "cell_type": "code",
   "source": [
    "# Дополнительная проверка зависимости между подготовкой к тесту и образованием родителей\n",
    "print(\"\\n5. Проверка зависимости между курсом подготовки и образованием родителей\\n\")\n",
    "\n",
    "prep_table = pd.crosstab(df['parental level of education'], df['test preparation course'])\n",
    "print(\"Таблица сопряженности (образование родителей × подготовка к тесту):\")\n",
    "print(prep_table)\n",
    "print()"
   ],
   "id": "17d52e5d572d15c1",
   "outputs": [
    {
     "name": "stdout",
     "output_type": "stream",
     "text": [
      "\n",
      "5. Проверка зависимости между курсом подготовки и образованием родителей\n",
      "\n",
      "Таблица сопряженности (образование родителей × подготовка к тесту):\n",
      "test preparation course      completed  none\n",
      "parental level of education                 \n",
      "associate's degree                  82   140\n",
      "bachelor's degree                   46    72\n",
      "high school                         56   140\n",
      "master's degree                     20    39\n",
      "some college                        77   149\n",
      "some high school                    77   102\n",
      "\n"
     ]
    }
   ],
   "execution_count": 30
  },
  {
   "metadata": {
    "ExecuteTime": {
     "end_time": "2025-05-21T19:13:53.631105Z",
     "start_time": "2025-05-21T19:13:53.623914Z"
    }
   },
   "cell_type": "code",
   "source": [
    "chi2_prep, p_prep, dof_prep, expected_prep = chi2_contingency(prep_table)\n",
    "print(f\"Хи-квадрат: χ² = {chi2_prep:.3f}, df = {dof_prep}, p-value = {p_prep:.5f}\")\n",
    "\n",
    "if p_prep < 0.05:\n",
    "    print(\n",
    "        \"✅ Отклоняем H₀: есть статистически значимая связь между уровнем образования родителей и прохождением курса подготовки.\")\n",
    "else:\n",
    "    print(\n",
    "        \"❌ Не отклоняем H₀: статистически значимой связи между уровнем образования родителей и прохождением курса подготовки нет.\")"
   ],
   "id": "73fe2ee32b18cd57",
   "outputs": [
    {
     "name": "stdout",
     "output_type": "stream",
     "text": [
      "Хи-квадрат: χ² = 9.544, df = 5, p-value = 0.08923\n",
      "❌ Не отклоняем H₀: статистически значимой связи между уровнем образования родителей и прохождением курса подготовки нет.\n"
     ]
    }
   ],
   "execution_count": 31
  },
  {
   "metadata": {
    "ExecuteTime": {
     "end_time": "2025-05-21T19:13:53.686963Z",
     "start_time": "2025-05-21T19:13:53.679392Z"
    }
   },
   "cell_type": "code",
   "source": [
    "#  Влияние образования родителей на средний балл (регрессионный анализ)\n",
    "print(\"\\n6. Влияние образования родителей на средний балл (регрессионный анализ)\\n\")\n",
    "\n",
    "# Преобразование категориальных переменных\n",
    "categorical_features = ['gender', 'race/ethnicity', 'parental level of education', 'lunch', 'test preparation course']\n",
    "X = df[categorical_features]\n",
    "y = df['average score']"
   ],
   "id": "2bd746c2b57d4528",
   "outputs": [
    {
     "name": "stdout",
     "output_type": "stream",
     "text": [
      "\n",
      "6. Влияние образования родителей на средний балл (регрессионный анализ)\n",
      "\n"
     ]
    }
   ],
   "execution_count": 32
  },
  {
   "metadata": {
    "ExecuteTime": {
     "end_time": "2025-05-21T19:13:53.753935Z",
     "start_time": "2025-05-21T19:13:53.747493Z"
    }
   },
   "cell_type": "code",
   "source": [
    "# One-hot encoding для категориальных переменных\n",
    "preprocessor = ColumnTransformer(\n",
    "    transformers=[\n",
    "        ('cat', OneHotEncoder(), categorical_features)\n",
    "    ])"
   ],
   "id": "6d69d9930db0c53",
   "outputs": [],
   "execution_count": 33
  },
  {
   "metadata": {
    "ExecuteTime": {
     "end_time": "2025-05-21T19:13:53.832096Z",
     "start_time": "2025-05-21T19:13:53.805788Z"
    }
   },
   "cell_type": "code",
   "source": [
    "X_train, X_test, y_train, y_test = train_test_split(X, y, test_size=0.3, random_state=42)\n",
    "\n",
    "pipe = Pipeline([\n",
    "    ('preprocessor', preprocessor),\n",
    "    ('regressor', LinearRegression())\n",
    "])\n",
    "\n",
    "pipe.fit(X_train, y_train)\n",
    "y_pred = pipe.predict(X_test)\n",
    "\n",
    "mse = mean_squared_error(y_test, y_pred)\n",
    "r2 = r2_score(y_test, y_pred)\n",
    "\n",
    "print(f\"Mean Squared Error: {mse:.3f}\")\n",
    "print(f\"R² score: {r2:.3f}\")"
   ],
   "id": "aa1793e4e8a4c9f",
   "outputs": [
    {
     "name": "stdout",
     "output_type": "stream",
     "text": [
      "Mean Squared Error: 176.157\n",
      "R² score: 0.219\n"
     ]
    }
   ],
   "execution_count": 34
  },
  {
   "metadata": {
    "ExecuteTime": {
     "end_time": "2025-05-21T19:17:36.060799Z",
     "start_time": "2025-05-21T19:17:36.042306Z"
    }
   },
   "cell_type": "code",
   "source": [
    "\n",
    "feature_names = pipe.named_steps['preprocessor'].transformers_[0][1].get_feature_names_out(categorical_features)\n",
    "education_features = [f for f in feature_names if 'parental level of education' in f]\n",
    "education_coefs = pipe.named_steps['regressor'].coef_[\n",
    "    [i for i, name in enumerate(feature_names) if name in education_features]\n",
    "]\n",
    "\n",
    "print(\"\\nВлияние уровня образования родителей на средний балл:\")\n",
    "for feature, coef in zip(education_features, education_coefs):\n",
    "    level = feature.replace('parental level of education_', '')\n",
    "    print(f\"{level}: {coef:.3f}\")"
   ],
   "id": "b3f5cd3b2deb8f84",
   "outputs": [
    {
     "name": "stdout",
     "output_type": "stream",
     "text": [
      "\n",
      "Влияние уровня образования родителей на средний балл:\n",
      "associate's degree: 0.578\n",
      "bachelor's degree: 4.016\n",
      "high school: -4.176\n",
      "master's degree: 1.726\n",
      "some college: 0.281\n",
      "some high school: -2.426\n"
     ]
    }
   ],
   "execution_count": 37
  },
  {
   "metadata": {
    "ExecuteTime": {
     "end_time": "2025-05-21T19:13:53.969507Z",
     "start_time": "2025-05-21T19:13:53.962630Z"
    }
   },
   "cell_type": "code",
   "source": [
    "print(\"\\n\\nВЫВОДЫ:\")\n",
    "print(\"1. Тест Шапиро-Уилка показал, что в группе 'some high school' распределение не является нормальным,\")\n",
    "print(\"   что указывает на необходимость использования непараметрических методов для этой группы.\")\n",
    "print(\"2. ANOVA для групп с нормальным распределением выявила статистически значимые различия средних баллов.\")\n",
    "print(\"3. Хи-квадрат тест после категоризации баллов подтвердил наличие статистически значимой связи между\")\n",
    "print(\"   уровнем образования родителей и уровнем успеваемости студентов.\")\n",
    "print(\"4. Связи между прохождением курса подготовки и уровнем образования родителей не обнаружено.\")\n",
    "print(\"5. Регрессионный анализ выявил влияние образования родителей на успеваемость, где наибольший положительный\")\n",
    "print(\"   эффект наблюдается у родителей с высшим образованием (магистр, бакалавр).\")"
   ],
   "id": "25de6b78ef54e6a0",
   "outputs": [
    {
     "name": "stdout",
     "output_type": "stream",
     "text": [
      "\n",
      "\n",
      "ВЫВОДЫ:\n",
      "1. Тест Шапиро-Уилка показал, что в группе 'some high school' распределение не является нормальным,\n",
      "   что указывает на необходимость использования непараметрических методов для этой группы.\n",
      "2. ANOVA для групп с нормальным распределением выявила статистически значимые различия средних баллов.\n",
      "3. Хи-квадрат тест после категоризации баллов подтвердил наличие статистически значимой связи между\n",
      "   уровнем образования родителей и уровнем успеваемости студентов.\n",
      "4. Связи между прохождением курса подготовки и уровнем образования родителей не обнаружено.\n",
      "5. Регрессионный анализ выявил влияние образования родителей на успеваемость, где наибольший положительный\n",
      "   эффект наблюдается у родителей с высшим образованием (магистр, бакалавр).\n"
     ]
    }
   ],
   "execution_count": 36
  }
 ],
 "metadata": {
  "kernelspec": {
   "display_name": "Python 3",
   "language": "python",
   "name": "python3"
  },
  "language_info": {
   "codemirror_mode": {
    "name": "ipython",
    "version": 2
   },
   "file_extension": ".py",
   "mimetype": "text/x-python",
   "name": "python",
   "nbconvert_exporter": "python",
   "pygments_lexer": "ipython2",
   "version": "2.7.6"
  }
 },
 "nbformat": 4,
 "nbformat_minor": 5
}
