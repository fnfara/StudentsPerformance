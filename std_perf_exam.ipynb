{
 "cells": [
  {
   "cell_type": "code",
   "id": "initial_id",
   "metadata": {
    "collapsed": true,
    "ExecuteTime": {
     "end_time": "2025-05-22T01:25:04.103125Z",
     "start_time": "2025-05-22T01:25:03.753229Z"
    }
   },
   "source": [
    "import pandas as pd\n",
    "import matplotlib.pyplot as plt\n",
    "import seaborn as sns\n",
    "from scipy.stats import shapiro, f_oneway, kruskal, chisquare\n",
    "from sklearn.model_selection import train_test_split\n",
    "from sklearn.linear_model import LinearRegression\n",
    "from sklearn.ensemble import RandomForestRegressor\n",
    "from sklearn.metrics import mean_squared_error, r2_score\n",
    "from sklearn.preprocessing import OneHotEncoder\n",
    "from sklearn.compose import ColumnTransformer\n",
    "from sklearn.pipeline import Pipeline\n",
    "\n",
    "df = pd.read_csv('StudentsPerformance.csv')\n",
    "df.info()\n"
   ],
   "outputs": [
    {
     "name": "stdout",
     "output_type": "stream",
     "text": [
      "<class 'pandas.core.frame.DataFrame'>\n",
      "RangeIndex: 1000 entries, 0 to 999\n",
      "Data columns (total 8 columns):\n",
      " #   Column                       Non-Null Count  Dtype \n",
      "---  ------                       --------------  ----- \n",
      " 0   gender                       1000 non-null   object\n",
      " 1   race/ethnicity               1000 non-null   object\n",
      " 2   parental level of education  1000 non-null   object\n",
      " 3   lunch                        1000 non-null   object\n",
      " 4   test preparation course      1000 non-null   object\n",
      " 5   math score                   1000 non-null   int64 \n",
      " 6   reading score                1000 non-null   int64 \n",
      " 7   writing score                1000 non-null   int64 \n",
      "dtypes: int64(3), object(5)\n",
      "memory usage: 62.6+ KB\n"
     ]
    }
   ],
   "execution_count": 2
  },
  {
   "metadata": {
    "ExecuteTime": {
     "end_time": "2025-05-22T01:25:04.151405Z",
     "start_time": "2025-05-22T01:25:04.135105Z"
    }
   },
   "cell_type": "code",
   "source": [
    "df['average score'] = df[['math score', 'reading score', 'writing score']].mean(axis=1)\n",
    "df[['math score', 'reading score', 'writing score', 'average score']].head()\n"
   ],
   "id": "daa44c64a2862544",
   "outputs": [
    {
     "data": {
      "text/plain": [
       "   math score  reading score  writing score  average score\n",
       "0          72             72             74      72.666667\n",
       "1          69             90             88      82.333333\n",
       "2          90             95             93      92.666667\n",
       "3          47             57             44      49.333333\n",
       "4          76             78             75      76.333333"
      ],
      "text/html": [
       "<div>\n",
       "<style scoped>\n",
       "    .dataframe tbody tr th:only-of-type {\n",
       "        vertical-align: middle;\n",
       "    }\n",
       "\n",
       "    .dataframe tbody tr th {\n",
       "        vertical-align: top;\n",
       "    }\n",
       "\n",
       "    .dataframe thead th {\n",
       "        text-align: right;\n",
       "    }\n",
       "</style>\n",
       "<table border=\"1\" class=\"dataframe\">\n",
       "  <thead>\n",
       "    <tr style=\"text-align: right;\">\n",
       "      <th></th>\n",
       "      <th>math score</th>\n",
       "      <th>reading score</th>\n",
       "      <th>writing score</th>\n",
       "      <th>average score</th>\n",
       "    </tr>\n",
       "  </thead>\n",
       "  <tbody>\n",
       "    <tr>\n",
       "      <th>0</th>\n",
       "      <td>72</td>\n",
       "      <td>72</td>\n",
       "      <td>74</td>\n",
       "      <td>72.666667</td>\n",
       "    </tr>\n",
       "    <tr>\n",
       "      <th>1</th>\n",
       "      <td>69</td>\n",
       "      <td>90</td>\n",
       "      <td>88</td>\n",
       "      <td>82.333333</td>\n",
       "    </tr>\n",
       "    <tr>\n",
       "      <th>2</th>\n",
       "      <td>90</td>\n",
       "      <td>95</td>\n",
       "      <td>93</td>\n",
       "      <td>92.666667</td>\n",
       "    </tr>\n",
       "    <tr>\n",
       "      <th>3</th>\n",
       "      <td>47</td>\n",
       "      <td>57</td>\n",
       "      <td>44</td>\n",
       "      <td>49.333333</td>\n",
       "    </tr>\n",
       "    <tr>\n",
       "      <th>4</th>\n",
       "      <td>76</td>\n",
       "      <td>78</td>\n",
       "      <td>75</td>\n",
       "      <td>76.333333</td>\n",
       "    </tr>\n",
       "  </tbody>\n",
       "</table>\n",
       "</div>"
      ]
     },
     "execution_count": 3,
     "metadata": {},
     "output_type": "execute_result"
    }
   ],
   "execution_count": 3
  },
  {
   "metadata": {
    "ExecuteTime": {
     "end_time": "2025-05-22T01:25:04.399995Z",
     "start_time": "2025-05-22T01:25:04.391524Z"
    }
   },
   "cell_type": "code",
   "source": [
    "high_school = df[df['parental level of education'] == 'some high school']['average score'].dropna()\n",
    "bachelor_degree = df[df['parental level of education'] == 'bachelor\\'s degree']['average score'].dropna()\n",
    "master_degree = df[df['parental level of education'] == 'master\\'s degree']['average score'].dropna()\n",
    "associate_degree = df[df['parental level of education'] == 'associate\\'s degree']['average score'].dropna()\n",
    "high_school_grad = df[df['parental level of education'] == 'high school']['average score'].dropna()\n"
   ],
   "id": "af7c49c5766a14de",
   "outputs": [],
   "execution_count": 4
  },
  {
   "metadata": {
    "ExecuteTime": {
     "end_time": "2025-05-22T01:25:04.454587Z",
     "start_time": "2025-05-22T01:25:04.451195Z"
    }
   },
   "cell_type": "code",
   "source": [
    "groups = [high_school, bachelor_degree, master_degree, associate_degree, high_school_grad]\n",
    "group_names = ['some high school', 'bachelor\\'s degree', 'master\\'s degree', 'associate\\'s degree', 'high school']"
   ],
   "id": "b01e66b3efe5ab04",
   "outputs": [],
   "execution_count": 5
  },
  {
   "metadata": {
    "ExecuteTime": {
     "end_time": "2025-05-22T01:25:04.577650Z",
     "start_time": "2025-05-22T01:25:04.568891Z"
    }
   },
   "cell_type": "code",
   "source": [
    "def check_normality(groups, group_names):\n",
    "    normal_groups = []\n",
    "    non_normal_groups = []\n",
    "\n",
    "    for group, name in zip(groups, group_names):\n",
    "        if len(group) > 1:\n",
    "            stat, p_val = shapiro(group)\n",
    "            print(f\"Shapiro-Wilk test для группы '{name}': p-value = {p_val:.3f}\")\n",
    "\n",
    "            if p_val < 0.05:\n",
    "                print(f\"❌ Распределение **не нормальное** для группы '{name}'\")\n",
    "                non_normal_groups.append(group)\n",
    "            else:\n",
    "                print(f\"✅ Распределение **нормальное** для группы '{name}'\")\n",
    "                normal_groups.append(group)\n",
    "        else:\n",
    "            print(f\"❌ Недостаточно данных для группы '{name}'\")\n",
    "\n",
    "    return normal_groups, non_normal_groups\n",
    "\n",
    "\n",
    "normal_groups, non_normal_groups = check_normality(groups, group_names)"
   ],
   "id": "9e4d8348d6cc703b",
   "outputs": [
    {
     "name": "stdout",
     "output_type": "stream",
     "text": [
      "Shapiro-Wilk test для группы 'some high school': p-value = 0.009\n",
      "❌ Распределение **не нормальное** для группы 'some high school'\n",
      "Shapiro-Wilk test для группы 'bachelor's degree': p-value = 0.340\n",
      "✅ Распределение **нормальное** для группы 'bachelor's degree'\n",
      "Shapiro-Wilk test для группы 'master's degree': p-value = 0.230\n",
      "✅ Распределение **нормальное** для группы 'master's degree'\n",
      "Shapiro-Wilk test для группы 'associate's degree': p-value = 0.110\n",
      "✅ Распределение **нормальное** для группы 'associate's degree'\n",
      "Shapiro-Wilk test для группы 'high school': p-value = 0.105\n",
      "✅ Распределение **нормальное** для группы 'high school'\n"
     ]
    }
   ],
   "execution_count": 6
  },
  {
   "metadata": {
    "ExecuteTime": {
     "end_time": "2025-05-22T01:25:04.715617Z",
     "start_time": "2025-05-22T01:25:04.709047Z"
    }
   },
   "cell_type": "code",
   "source": [
    "if normal_groups:\n",
    "    print(\"\\nПроверка с помощью ANOVA для нормальных распределений:\")\n",
    "f_oneway(*normal_groups)\n"
   ],
   "id": "df700b0071ed130",
   "outputs": [
    {
     "name": "stdout",
     "output_type": "stream",
     "text": [
      "\n",
      "Проверка с помощью ANOVA для нормальных распределений:\n"
     ]
    },
    {
     "data": {
      "text/plain": [
       "F_onewayResult(statistic=np.float64(15.829499650328307), pvalue=np.float64(6.519462218264812e-10))"
      ]
     },
     "execution_count": 7,
     "metadata": {},
     "output_type": "execute_result"
    }
   ],
   "execution_count": 7
  },
  {
   "metadata": {
    "ExecuteTime": {
     "end_time": "2025-05-22T01:25:40.753091Z",
     "start_time": "2025-05-22T01:25:40.748878Z"
    }
   },
   "cell_type": "code",
   "source": [
    "f_stat, p_val = f_oneway(*normal_groups)\n",
    "print(f\"ANOVA: F-statistic = {f_stat:.3f}, P-value = {p_val:.3f}\")\n",
    "if p_val < 0.05:\n",
    "    print(\"✅ Отклоняем H₀: различия между группами значимы.\")\n",
    "else:\n",
    "    print(\"❌ Не отклоняем H₀: различия между группами незначимы.\")"
   ],
   "id": "e201232b896f7eb7",
   "outputs": [
    {
     "name": "stdout",
     "output_type": "stream",
     "text": [
      "ANOVA: F-statistic = 15.829, P-value = 0.000\n",
      "✅ Отклоняем H₀: различия между группами значимы.\n"
     ]
    }
   ],
   "execution_count": 11
  },
  {
   "metadata": {
    "ExecuteTime": {
     "end_time": "2025-05-22T01:35:51.806182Z",
     "start_time": "2025-05-22T01:35:51.785530Z"
    }
   },
   "cell_type": "code",
   "source": [
    "groups = [high_school, bachelor_degree, master_degree, associate_degree, high_school_grad]\n",
    "group_names = ['some high school', 'bachelor\\'s degree', 'master\\'s degree', 'associate\\'s degree', 'high school']\n",
    "\n",
    "if non_normal_groups:\n",
    "    print(\"\\nПроверка с помощью Краскела-Уоллиса для ненормальных распределений:\")\n",
    "\n",
    "    if len(non_normal_groups) > 1:\n",
    "        h_stat, p_val_kruskal = kruskal(*non_normal_groups)\n",
    "        print(f\"Краскел-Уоллис: H-statistic = {h_stat:.3f}, P-value = {p_val_kruskal:.3f}\")\n",
    "\n",
    "        if p_val_kruskal < 0.05:\n",
    "            print(\"✅ Отклоняем H₀: различия между группами значимы.\")\n",
    "        else:\n",
    "            print(\"❌ Не отклоняем H₀: различия между группами незначимы.\")\n",
    "    else:\n",
    "        print(\"❌ Недостаточно данных для применения Краскела-Уоллиса.\")"
   ],
   "id": "aaa8db3c42df886c",
   "outputs": [
    {
     "name": "stdout",
     "output_type": "stream",
     "text": [
      "\n",
      "Проверка с помощью Краскела-Уоллиса для ненормальных распределений:\n",
      "❌ Недостаточно данных для применения Краскела-Уоллиса.\n"
     ]
    }
   ],
   "execution_count": 20
  },
  {
   "metadata": {
    "ExecuteTime": {
     "end_time": "2025-05-22T01:36:20.438358Z",
     "start_time": "2025-05-22T01:36:20.425920Z"
    }
   },
   "cell_type": "code",
   "source": [
    "def categorize(score):\n",
    "    if score < 60:\n",
    "        return 'низкий'\n",
    "    elif score <= 80:\n",
    "        return 'средний'\n",
    "    else:\n",
    "        return 'высокий'\n",
    "\n",
    "df['score_category'] = df['average score'].apply(categorize)\n",
    "subset = df[df['parental level of education'] == 'high school']"
   ],
   "id": "f805b31e8bedc960",
   "outputs": [],
   "execution_count": 21
  },
  {
   "metadata": {
    "ExecuteTime": {
     "end_time": "2025-05-22T01:37:12.187642Z",
     "start_time": "2025-05-22T01:37:12.168040Z"
    }
   },
   "cell_type": "code",
   "source": [
    "counts = pd.crosstab(index=subset['parental level of education'], columns=subset['score_category'])\n",
    "\n",
    "print(\"\\nСводная таблица (наблюдаемые значения):\\n\", counts)\n",
    "\n",
    "observed = counts.values[0]\n",
    "expected = [observed.sum() / len(observed)] * len(observed)\n",
    "chisquare(observed, expected)"
   ],
   "id": "95afe92464db537c",
   "outputs": [
    {
     "name": "stdout",
     "output_type": "stream",
     "text": [
      "\n",
      "Сводная таблица (наблюдаемые значения):\n",
      " score_category               высокий  низкий  средний\n",
      "parental level of education                          \n",
      "high school                       18      76      102\n"
     ]
    },
    {
     "data": {
      "text/plain": [
       "Power_divergenceResult(statistic=np.float64(56.61224489795919), pvalue=np.float64(5.091048288480087e-13))"
      ]
     },
     "execution_count": 22,
     "metadata": {},
     "output_type": "execute_result"
    }
   ],
   "execution_count": 22
  },
  {
   "metadata": {
    "ExecuteTime": {
     "end_time": "2025-05-22T01:37:32.201956Z",
     "start_time": "2025-05-22T01:37:32.186802Z"
    }
   },
   "cell_type": "code",
   "source": [
    "print(\"\\nОжидаемые значения:\\n\", expected)\n",
    "chi2_stat, p_value = chisquare(f_obs=observed, f_exp=expected)\n",
    "\n",
    "print(f\"\\nχ²-статистика: {chi2_stat:.3f}\")\n",
    "print(f\"P-value: {p_value:.3f}\")\n",
    "\n",
    "if p_value < 0.05:\n",
    "    print(\"✅ Распределение категорий среднего балла НЕ является равномерным (есть статистическая значимость).\")\n",
    "else:\n",
    "    print(\"❌ Распределение категорий среднего балла можно считать равномерным (нет статистической значимости).\")"
   ],
   "id": "b8a0da50815d98b8",
   "outputs": [
    {
     "name": "stdout",
     "output_type": "stream",
     "text": [
      "\n",
      "Ожидаемые значения:\n",
      " [np.float64(65.33333333333333), np.float64(65.33333333333333), np.float64(65.33333333333333)]\n",
      "\n",
      "χ²-статистика: 56.612\n",
      "P-value: 0.000\n",
      "✅ Распределение категорий среднего балла НЕ является равномерным (есть статистическая значимость).\n"
     ]
    }
   ],
   "execution_count": 23
  },
  {
   "metadata": {
    "ExecuteTime": {
     "end_time": "2025-05-22T01:25:04.893670300Z",
     "start_time": "2025-05-21T18:09:14.780817Z"
    }
   },
   "cell_type": "code",
   "source": "df.info()",
   "id": "5e694deb8f5ae95f",
   "outputs": [
    {
     "name": "stdout",
     "output_type": "stream",
     "text": [
      "<class 'pandas.core.frame.DataFrame'>\n",
      "RangeIndex: 1000 entries, 0 to 999\n",
      "Data columns (total 9 columns):\n",
      " #   Column                       Non-Null Count  Dtype  \n",
      "---  ------                       --------------  -----  \n",
      " 0   gender                       1000 non-null   object \n",
      " 1   race/ethnicity               1000 non-null   object \n",
      " 2   parental level of education  1000 non-null   object \n",
      " 3   lunch                        1000 non-null   object \n",
      " 4   test preparation course      1000 non-null   object \n",
      " 5   math score                   1000 non-null   int64  \n",
      " 6   reading score                1000 non-null   int64  \n",
      " 7   writing score                1000 non-null   int64  \n",
      " 8   average score                1000 non-null   float64\n",
      "dtypes: float64(1), int64(3), object(5)\n",
      "memory usage: 70.4+ KB\n"
     ]
    }
   ],
   "execution_count": 11
  },
  {
   "metadata": {
    "ExecuteTime": {
     "end_time": "2025-05-22T01:25:04.896671100Z",
     "start_time": "2025-05-21T18:09:14.890503Z"
    }
   },
   "cell_type": "code",
   "source": [
    "grouped = df.groupby(['test preparation course', 'parental level of education']).size().reset_index(name='Count')\n",
    "print(grouped)"
   ],
   "id": "11454950fd734736",
   "outputs": [
    {
     "name": "stdout",
     "output_type": "stream",
     "text": [
      "   test preparation course parental level of education  Count\n",
      "0                completed          associate's degree     82\n",
      "1                completed           bachelor's degree     46\n",
      "2                completed                 high school     56\n",
      "3                completed             master's degree     20\n",
      "4                completed                some college     77\n",
      "5                completed            some high school     77\n",
      "6                     none          associate's degree    140\n",
      "7                     none           bachelor's degree     72\n",
      "8                     none                 high school    140\n",
      "9                     none             master's degree     39\n",
      "10                    none                some college    149\n",
      "11                    none            some high school    102\n"
     ]
    }
   ],
   "execution_count": 12
  },
  {
   "metadata": {
    "ExecuteTime": {
     "end_time": "2025-05-22T01:35:17.428473Z",
     "start_time": "2025-05-22T01:35:17.407037Z"
    }
   },
   "cell_type": "code",
   "source": [
    "pivot_table = df.pivot_table(index='parental level of education',\n",
    "                             columns='test preparation course',\n",
    "                             aggfunc='size',\n",
    "                             fill_value=0)\n",
    "print(pivot_table)\n"
   ],
   "id": "3288eb86c22c9b1f",
   "outputs": [
    {
     "name": "stdout",
     "output_type": "stream",
     "text": [
      "test preparation course      completed  none\n",
      "parental level of education                 \n",
      "associate's degree                  82   140\n",
      "bachelor's degree                   46    72\n",
      "high school                         56   140\n",
      "master's degree                     20    39\n",
      "some college                        77   149\n",
      "some high school                    77   102\n"
     ]
    }
   ],
   "execution_count": 19
  },
  {
   "metadata": {
    "ExecuteTime": {
     "end_time": "2025-05-22T01:25:04.899672700Z",
     "start_time": "2025-05-21T18:09:15.293266Z"
    }
   },
   "cell_type": "code",
   "source": [
    "observed = [82, 140, 46, 72, 56, 140, 20, 39, 77, 149, 77, 102]\n",
    "expected = [71.55, 150.45, 45.55, 72.45, 56.91, 139.09, 26.55, 32.45, 59.73, 166.27, 78.73, 100.27]\n",
    "\n",
    "chi2_stat, p_val = chisquare(observed, expected)\n",
    "\n",
    "print(f\"Chi-squared statistic: {chi2_stat:.3f}\")\n",
    "print(f\"P-value: {p_val:.3f}\")\n",
    "\n",
    "if p_val < 0.05:\n",
    "    print(\"✅ Отклоняем H₀: существует зависимость между курсом подготовки и уровнем образования родителей.\")\n",
    "else:\n",
    "    print(\"❌ Не отклоняем H₀: зависимости между курсом подготовки и уровнем образования родителей нет.\")\n"
   ],
   "id": "1723e56a8be888a3",
   "outputs": [
    {
     "name": "stdout",
     "output_type": "stream",
     "text": [
      "Chi-squared statistic: 12.073\n",
      "P-value: 0.358\n",
      "❌ Не отклоняем H₀: зависимости между курсом подготовки и уровнем образования родителей нет.\n"
     ]
    }
   ],
   "execution_count": 14
  }
 ],
 "metadata": {
  "kernelspec": {
   "display_name": "Python 3",
   "language": "python",
   "name": "python3"
  },
  "language_info": {
   "codemirror_mode": {
    "name": "ipython",
    "version": 2
   },
   "file_extension": ".py",
   "mimetype": "text/x-python",
   "name": "python",
   "nbconvert_exporter": "python",
   "pygments_lexer": "ipython2",
   "version": "2.7.6"
  }
 },
 "nbformat": 4,
 "nbformat_minor": 5
}
